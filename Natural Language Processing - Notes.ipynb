{
 "cells": [
  {
   "cell_type": "markdown",
   "metadata": {},
   "source": [
    "## Natural Language Processing"
   ]
  },
  {
   "cell_type": "markdown",
   "metadata": {},
   "source": [
    "### Text Classification\n",
    "We will classify movie genres using a supervised data set and NLP techniques. First we will load and split the data into train and test sets, use Count Vectorizer and ---. "
   ]
  },
  {
   "cell_type": "raw",
   "metadata": {},
   "source": [
    "import pandas as pd\n",
    "from sklearn.model_selection import train_test_split\n",
    "from sklearn.feature_extraction.text import CountVectorizer\n",
    "\n",
    "df = #load dataframe\n",
    "y = df['Sci-Fi']\n",
    "X_train, X_test, y_train, y_test = train_test_split(df['plot'], y, test_size=0.33, random_state=42)\n",
    "\n",
    "count_vectorizer = CountVectorizer(stop_words='english')\n",
    "count_train = count_vectorizer.fit_transform(X_train.values)\n",
    "count_test = count_vectorizer.transform(X_test.values)"
   ]
  },
  {
   "cell_type": "markdown",
   "metadata": {},
   "source": [
    "### Naive Bayes Classifier\n",
    "Commonly used for testing NLP classification problems because of its basis in probability. Given a particular piece of data, how likely is particular outcome? If the plot has a spaceship, how likely is it to be sci-fi? Given a spaceship and an alien, how likely now is it to be sci-fi? Each word from CountVectorizer acts as a feature.\n",
    "\n",
    "Multinomial expects integer classes and works with multilabel classification. It doesn't work well with floats (then, use Support Vector Machines or Linear Models).\n",
    "\n",
    "Confusion matrix shows us true positives, true negatives, false positives and false negatives. It's easier when we label the matrix. For example, if we have this matrix:\n",
    "\n",
    "xxx Action Sci-Fi\n",
    "\n",
    "^Action 6410 563\n",
    "\n",
    "^Sci-Fi 864 2242\n",
    "\n",
    "This means 864 movies sci-fi movies were incorrectly labelled as action and 563 action movies were accidentally labelled as sci-fi. Our data is skewed towards action, so that might be way we have more accuracy with action movies. ^ indicates true label."
   ]
  },
  {
   "cell_type": "raw",
   "metadata": {},
   "source": [
    "from sklearn.naive_bayes import MultinomialNB\n",
    "from sklearn import metrics\n",
    "\n",
    "nb_classifier = MultinomialNB()\n",
    "nb_classifier.fit(count_train, y_train)\n",
    "pred = nb_classifier.predict(count_test)\n",
    "metrics.accuracy_score(y_test, pred)"
   ]
  },
  {
   "cell_type": "markdown",
   "metadata": {},
   "source": [
    "### Sentiment Analysis\n",
    "Different words "
   ]
  }
 ],
 "metadata": {
  "kernelspec": {
   "display_name": "Python 3",
   "language": "python",
   "name": "python3"
  },
  "language_info": {
   "codemirror_mode": {
    "name": "ipython",
    "version": 2
   },
   "file_extension": ".py",
   "mimetype": "text/x-python",
   "name": "python",
   "nbconvert_exporter": "python",
   "pygments_lexer": "ipython2",
   "version": "2.7.15"
  }
 },
 "nbformat": 4,
 "nbformat_minor": 2
}
